{
 "cells": [
  {
   "cell_type": "code",
   "execution_count": 8,
   "id": "6ddfebb1",
   "metadata": {},
   "outputs": [],
   "source": [
    "\n",
    "# standard imports\n",
    "\n",
    "import numpy as np\n",
    "import pandas as pd\n",
    "import seaborn as sns\n",
    "import matplotlib.pyplot as plt\n",
    "from sklearn.linear_model import LinearRegression\n",
    "from sklearn.linear_model import LogisticRegression\n",
    "from sklearn.model_selection import train_test_split\n",
    "from sklearn.preprocessing import OneHotEncoder\n",
    "from sklearn.metrics import accuracy_score, roc_curve\n",
    "from sklearn.model_selection import GridSearchCV\n",
    "from datetime import datetime\n",
    "import re\n"
   ]
  },
  {
   "cell_type": "code",
   "execution_count": 4,
   "id": "c96f4368",
   "metadata": {},
   "outputs": [],
   "source": [
    "\n",
    "# read data\n",
    "\n",
    "games = pd.read_csv('data/games.csv')\n",
    "pff = pd.read_csv('data/pffScoutingData.csv')\n",
    "players = pd.read_csv('data/players.csv')\n",
    "plays = pd.read_csv('data/plays.csv')\n",
    "weeks = [pd.read_csv(f'data/week{i}.csv') for i in range(1, 9)]\n"
   ]
  },
  {
   "cell_type": "code",
   "execution_count": 14,
   "id": "009a4bbc",
   "metadata": {},
   "outputs": [
    {
     "data": {
      "text/plain": [
       "1118122"
      ]
     },
     "execution_count": 14,
     "metadata": {},
     "output_type": "execute_result"
    }
   ],
   "source": [
    "len(weeks[0])"
   ]
  },
  {
   "cell_type": "code",
   "execution_count": null,
   "id": "e79ccb56",
   "metadata": {},
   "outputs": [],
   "source": []
  }
 ],
 "metadata": {
  "kernelspec": {
   "display_name": "Python 3 (ipykernel)",
   "language": "python",
   "name": "python3"
  },
  "language_info": {
   "codemirror_mode": {
    "name": "ipython",
    "version": 3
   },
   "file_extension": ".py",
   "mimetype": "text/x-python",
   "name": "python",
   "nbconvert_exporter": "python",
   "pygments_lexer": "ipython3",
   "version": "3.10.8"
  }
 },
 "nbformat": 4,
 "nbformat_minor": 5
}
